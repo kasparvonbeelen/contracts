{
 "cells": [
  {
   "cell_type": "code",
   "execution_count": 22,
   "metadata": {},
   "outputs": [],
   "source": [
    "from tools.utils import *\n",
    "from sentence_transformers import SentenceTransformer\n",
    "from sklearn.metrics.pairwise import cosine_similarity\n",
    "import numpy as np\n",
    "import torch\n",
    "import spacy"
   ]
  },
  {
   "cell_type": "markdown",
   "metadata": {},
   "source": [
    "# Prepare data for annotation"
   ]
  },
  {
   "cell_type": "code",
   "execution_count": 23,
   "metadata": {},
   "outputs": [
    {
     "data": {
      "text/plain": [
       "<spacy.pipeline.sentencizer.Sentencizer at 0x29d84b100>"
      ]
     },
     "execution_count": 23,
     "metadata": {},
     "output_type": "execute_result"
    }
   ],
   "source": [
    "# prepare the spacy model and pipeline\n",
    "nlp = spacy.load(\"en_core_web_sm\")\n",
    "nlp.disable_pipes(\"tagger\", \"parser\", \"attribute_ruler\", \"lemmatizer\")\n",
    "nlp.add_pipe('sentencizer')\n"
   ]
  },
  {
   "cell_type": "code",
   "execution_count": 24,
   "metadata": {},
   "outputs": [],
   "source": [
    "processed_data_dir = Path('processed_data')"
   ]
  },
  {
   "cell_type": "code",
   "execution_count": 25,
   "metadata": {},
   "outputs": [
    {
     "name": "stdout",
     "output_type": "stream",
     "text": [
      "105245 105245\n"
     ]
    }
   ],
   "source": [
    "embeddings = np.loadtxt(processed_data_dir / 'embedding.tsv')\n",
    "metadata = pd.read_csv(processed_data_dir / 'metadata.tsv',sep='\\t')\n",
    "print(len(embeddings), len(metadata))"
   ]
  },
  {
   "cell_type": "code",
   "execution_count": 26,
   "metadata": {},
   "outputs": [],
   "source": [
    "examples_df = pd.read_excel('annotations/scraping_clauses.xlsx', sheet_name='Sheet1')"
   ]
  },
  {
   "cell_type": "code",
   "execution_count": 27,
   "metadata": {},
   "outputs": [],
   "source": [
    "examples_df['processed_text'] = examples_df['No Scraping Clause'].apply(lambda x: 'clustering: ' + replace_named_entities(nlp(x)))"
   ]
  },
  {
   "cell_type": "code",
   "execution_count": 28,
   "metadata": {},
   "outputs": [
    {
     "data": {
      "text/plain": [
       "0     clustering: scraping or replicating any part o...\n",
       "1     clustering: you shall not yourself or through ...\n",
       "2     clustering: do n’t use the services to do harm...\n",
       "3     clustering: you may not access or collect data...\n",
       "4     clustering: you will not use , sublicense , co...\n",
       "5     clustering: you must not abuse , harm , interf...\n",
       "6     clustering: you will not probe , scan , or tes...\n",
       "7     clustering: you ca n't attempt to create accou...\n",
       "8     clustering: do n’t use any kind of software or...\n",
       "9     clustering: you agree that you will not : deve...\n",
       "10    clustering: you agree that you will not [ ... ...\n",
       "11    clustering: you agree that you will not , eith...\n",
       "12    clustering: prohibited activity on , through ,...\n",
       "13    clustering: in connection with your use of our...\n",
       "14    clustering: you may not use viruses , spyware ...\n",
       "15    clustering: you may not [ ... ] access , searc...\n",
       "16    clustering: you may not do , attempt to do , e...\n",
       "17    clustering: you may not [ … ] access or search...\n",
       "18    clustering: you must note use an anonymizing p...\n",
       "19    clustering: you must not ( or assist others to...\n",
       "20    clustering: you are not allowed to [ … ] acces...\n",
       "Name: processed_text, dtype: object"
      ]
     },
     "execution_count": 28,
     "metadata": {},
     "output_type": "execute_result"
    }
   ],
   "source": [
    "examples_df['processed_text']"
   ]
  },
  {
   "cell_type": "code",
   "execution_count": 29,
   "metadata": {},
   "outputs": [
    {
     "name": "stderr",
     "output_type": "stream",
     "text": [
      "/Users/kasparbeelen/anaconda3/envs/tou/lib/python3.10/site-packages/huggingface_hub/file_download.py:1150: FutureWarning: `resume_download` is deprecated and will be removed in version 1.0.0. Downloads always resume when possible. If you want to force a new download, use `force_download=True`.\n",
      "  warnings.warn(\n",
      "<All keys matched successfully>\n"
     ]
    },
    {
     "name": "stdout",
     "output_type": "stream",
     "text": [
      "mps\n"
     ]
    }
   ],
   "source": [
    "# next line is to check if MPS is available\n",
    "device = 'mps' if torch.backends.mps.is_available() else 'cpu'\n",
    "# comment next line if you are want to run code on a GPU\n",
    "#device = 'cuda' if torch.cuda.is_available() else device\n",
    "\n",
    "# load the nomic embed model\n",
    "model = SentenceTransformer(\"nomic-ai/nomic-embed-text-v1.5\", trust_remote_code=True) # trust_remote_code is needed to use the encode method\n",
    "# send the model to the device\n",
    "model.to(device)\n",
    "print(device)"
   ]
  },
  {
   "cell_type": "code",
   "execution_count": 30,
   "metadata": {},
   "outputs": [],
   "source": [
    "target_embeddings = model.encode(examples_df['processed_text'].tolist())"
   ]
  },
  {
   "cell_type": "code",
   "execution_count": 34,
   "metadata": {},
   "outputs": [],
   "source": [
    "average_embedding = target_embeddings.mean(axis=0)"
   ]
  },
  {
   "cell_type": "code",
   "execution_count": 63,
   "metadata": {},
   "outputs": [],
   "source": [
    "similarity_scores = cosine_similarity(embeddings, [average_embedding])\n",
    "top_n_position = np.argpartition(similarity_scores.reshape(-1), -100)[-100:][::-1]\n",
    "out_csv = pd.DataFrame(metadata.iloc[top_n_position].sentence.unique())\n",
    "out_csv.columns = ['sentence']\n",
    "out_csv['label'] = 0\n",
    "#out_csv['similarity'] = similarity_scores[top_n_position]\n",
    "out_csv.to_csv('annotations/most_similar_to_average.csv')"
   ]
  },
  {
   "cell_type": "code",
   "execution_count": 68,
   "metadata": {},
   "outputs": [],
   "source": [
    "similarity_scores = cosine_similarity(embeddings, target_embeddings)\n",
    "similarity_scores = similarity_scores.max(axis=1)\n",
    "top_n_position = np.argpartition(similarity_scores, -100)[-100:][::-1]\n",
    "out_csv = pd.DataFrame(metadata.iloc[top_n_position].sentence.unique())\n",
    "out_csv.columns = ['sentence']\n",
    "out_csv['label'] = 0\n",
    "#out_csv['similarity'] = similarity_scores[top_n_position]\n",
    "out_csv.to_csv('annotations/most_similar_to_individual.csv')"
   ]
  },
  {
   "cell_type": "markdown",
   "metadata": {},
   "source": [
    "# Load annotations and train a classifier"
   ]
  },
  {
   "cell_type": "code",
   "execution_count": 8,
   "metadata": {},
   "outputs": [],
   "source": [
    "import pandas as pd\n",
    "from torch.utils.data import DataLoader\n",
    "from pathlib import Path\n",
    "import evaluate\n",
    "from datasets import Dataset\n",
    "from transformers import AdamW\n",
    "from tqdm.auto import tqdm\n",
    "from transformers import get_scheduler\n",
    "from torch.nn.functional import softmax\n",
    "from transformers import AutoModelForSequenceClassification, AutoTokenizer\n",
    "from transformers import AutoTokenizer, DataCollatorWithPadding"
   ]
  },
  {
   "cell_type": "code",
   "execution_count": 49,
   "metadata": {},
   "outputs": [],
   "source": [
    "\n",
    "processed_data_dir = Path('processed_data')\n",
    "metadata = pd.read_csv(processed_data_dir / 'metadata.tsv',sep='\\t')"
   ]
  },
  {
   "cell_type": "code",
   "execution_count": 84,
   "metadata": {},
   "outputs": [
    {
     "data": {
      "text/plain": [
       "(105, 2)"
      ]
     },
     "execution_count": 84,
     "metadata": {},
     "output_type": "execute_result"
    }
   ],
   "source": [
    "# Load the data from CSV\n",
    "df_annotations = pd.read_csv('annotations/annotations.csv')\n",
    "df_annotations.shape"
   ]
  },
  {
   "cell_type": "code",
   "execution_count": 85,
   "metadata": {},
   "outputs": [
    {
     "data": {
      "text/plain": [
       "(199, 2)"
      ]
     },
     "execution_count": 85,
     "metadata": {},
     "output_type": "execute_result"
    }
   ],
   "source": [
    "df_sample = metadata.sample(n=200).reset_index(drop=True)\n",
    "sents = df_sample.sentence.to_list()\n",
    "sents = [s for s in sents if s not in df_annotations.text.to_list()]\n",
    "df_sample = pd.DataFrame(sents, columns=['text'])\n",
    "df_sample['labels'] = 0\n",
    "df_sample.shape\n"
   ]
  },
  {
   "cell_type": "code",
   "execution_count": 86,
   "metadata": {},
   "outputs": [],
   "source": [
    "data = pd.concat([df_annotations, df_sample[['text','labels']] ], axis=0).reset_index(drop=True)"
   ]
  },
  {
   "cell_type": "code",
   "execution_count": null,
   "metadata": {},
   "outputs": [],
   "source": []
  },
  {
   "cell_type": "code",
   "execution_count": 87,
   "metadata": {},
   "outputs": [
    {
     "name": "stderr",
     "output_type": "stream",
     "text": [
      "/Users/kasparbeelen/anaconda3/envs/tou/lib/python3.10/site-packages/huggingface_hub/file_download.py:1150: FutureWarning: `resume_download` is deprecated and will be removed in version 1.0.0. Downloads always resume when possible. If you want to force a new download, use `force_download=True`.\n",
      "  warnings.warn(\n"
     ]
    },
    {
     "data": {
      "application/vnd.jupyter.widget-view+json": {
       "model_id": "04e08de33d3444e7b12db5079c87ead7",
       "version_major": 2,
       "version_minor": 0
      },
      "text/plain": [
       "Map:   0%|          | 0/304 [00:00<?, ? examples/s]"
      ]
     },
     "metadata": {},
     "output_type": "display_data"
    }
   ],
   "source": [
    "\n",
    "\n",
    "checkpoint = \"distilbert-base-uncased\"\n",
    "tokenizer = AutoTokenizer.from_pretrained(checkpoint)\n",
    "\n",
    "\n",
    "def tokenize_function(example):\n",
    "    return tokenizer(example[\"text\"], truncation=True)\n",
    "\n",
    "dataset = Dataset.from_pandas(data)\n",
    "tokenized_datasets = dataset.map(tokenize_function, batched=True)\n",
    "data_collator = DataCollatorWithPadding(tokenizer=tokenizer)"
   ]
  },
  {
   "cell_type": "code",
   "execution_count": 88,
   "metadata": {},
   "outputs": [
    {
     "data": {
      "text/plain": [
       "Dataset({\n",
       "    features: ['text', 'labels', 'input_ids', 'attention_mask'],\n",
       "    num_rows: 304\n",
       "})"
      ]
     },
     "execution_count": 88,
     "metadata": {},
     "output_type": "execute_result"
    }
   ],
   "source": [
    "tokenized_datasets"
   ]
  },
  {
   "cell_type": "code",
   "execution_count": 89,
   "metadata": {},
   "outputs": [
    {
     "data": {
      "text/plain": [
       "['labels', 'input_ids', 'attention_mask']"
      ]
     },
     "execution_count": 89,
     "metadata": {},
     "output_type": "execute_result"
    }
   ],
   "source": [
    "tokenized_datasets = tokenized_datasets.train_test_split(test_size=0.2)\n",
    "tokenized_datasets = tokenized_datasets.remove_columns([\"text\"])\n",
    "tokenized_datasets.set_format(\"torch\")\n",
    "tokenized_datasets[\"train\"].column_names"
   ]
  },
  {
   "cell_type": "code",
   "execution_count": 90,
   "metadata": {},
   "outputs": [
    {
     "data": {
      "text/plain": [
       "DatasetDict({\n",
       "    train: Dataset({\n",
       "        features: ['labels', 'input_ids', 'attention_mask'],\n",
       "        num_rows: 243\n",
       "    })\n",
       "    test: Dataset({\n",
       "        features: ['labels', 'input_ids', 'attention_mask'],\n",
       "        num_rows: 61\n",
       "    })\n",
       "})"
      ]
     },
     "execution_count": 90,
     "metadata": {},
     "output_type": "execute_result"
    }
   ],
   "source": [
    "tokenized_datasets"
   ]
  },
  {
   "cell_type": "code",
   "execution_count": 91,
   "metadata": {},
   "outputs": [],
   "source": [
    "\n",
    "\n",
    "train_dataloader = DataLoader(\n",
    "    tokenized_datasets[\"train\"], shuffle=True, batch_size=8, collate_fn=data_collator\n",
    ")\n",
    "eval_dataloader = DataLoader(\n",
    "    tokenized_datasets[\"test\"], batch_size=8, collate_fn=data_collator\n",
    ")"
   ]
  },
  {
   "cell_type": "code",
   "execution_count": 92,
   "metadata": {},
   "outputs": [
    {
     "name": "stderr",
     "output_type": "stream",
     "text": [
      "Some weights of DistilBertForSequenceClassification were not initialized from the model checkpoint at distilbert-base-uncased and are newly initialized: ['classifier.bias', 'classifier.weight', 'pre_classifier.bias', 'pre_classifier.weight']\n",
      "You should probably TRAIN this model on a down-stream task to be able to use it for predictions and inference.\n"
     ]
    },
    {
     "name": "stdout",
     "output_type": "stream",
     "text": [
      "93\n"
     ]
    },
    {
     "name": "stderr",
     "output_type": "stream",
     "text": [
      "/Users/kasparbeelen/anaconda3/envs/tou/lib/python3.10/site-packages/transformers/optimization.py:429: FutureWarning: This implementation of AdamW is deprecated and will be removed in a future version. Use the PyTorch implementation torch.optim.AdamW instead, or set `no_deprecation_warning=True` to disable this warning\n",
      "  warnings.warn(\n"
     ]
    },
    {
     "data": {
      "application/vnd.jupyter.widget-view+json": {
       "model_id": "9c12bdd9e01248419db1dd0f675970d5",
       "version_major": 2,
       "version_minor": 0
      },
      "text/plain": [
       "  0%|          | 0/93 [00:00<?, ?it/s]"
      ]
     },
     "metadata": {},
     "output_type": "display_data"
    }
   ],
   "source": [
    "\n",
    "\n",
    "model = AutoModelForSequenceClassification.from_pretrained(checkpoint, num_labels=2)\n",
    "\n",
    "\n",
    "optimizer = AdamW(model.parameters(), lr=5e-5)\n",
    "\n",
    "\n",
    "\n",
    "num_epochs = 3\n",
    "num_training_steps = num_epochs * len(train_dataloader)\n",
    "lr_scheduler = get_scheduler(\n",
    "    \"linear\",\n",
    "    optimizer=optimizer,\n",
    "    num_warmup_steps=0,\n",
    "    num_training_steps=num_training_steps,\n",
    ")\n",
    "print(num_training_steps)\n",
    "\n",
    "\n",
    "\n",
    "progress_bar = tqdm(range(num_training_steps))\n",
    "\n",
    "model.train()\n",
    "for epoch in range(num_epochs):\n",
    "    for batch in train_dataloader:\n",
    "        batch = {k: v.to(device) for k, v in batch.items()}\n",
    "        outputs = model(**batch)\n",
    "        loss = outputs.loss\n",
    "        loss.backward()\n",
    "\n",
    "        optimizer.step()\n",
    "        lr_scheduler.step()\n",
    "        optimizer.zero_grad()\n",
    "        progress_bar.update(1)"
   ]
  },
  {
   "cell_type": "code",
   "execution_count": 61,
   "metadata": {},
   "outputs": [
    {
     "name": "stderr",
     "output_type": "stream",
     "text": [
      "/Users/kasparbeelen/anaconda3/envs/tou/lib/python3.10/site-packages/transformers/optimization.py:429: FutureWarning: This implementation of AdamW is deprecated and will be removed in a future version. Use the PyTorch implementation torch.optim.AdamW instead, or set `no_deprecation_warning=True` to disable this warning\n",
      "  warnings.warn(\n"
     ]
    }
   ],
   "source": []
  },
  {
   "cell_type": "code",
   "execution_count": 62,
   "metadata": {},
   "outputs": [
    {
     "name": "stdout",
     "output_type": "stream",
     "text": [
      "93\n"
     ]
    }
   ],
   "source": []
  },
  {
   "cell_type": "code",
   "execution_count": 63,
   "metadata": {},
   "outputs": [],
   "source": [
    "device = 'cpu'"
   ]
  },
  {
   "cell_type": "code",
   "execution_count": 64,
   "metadata": {},
   "outputs": [
    {
     "data": {
      "application/vnd.jupyter.widget-view+json": {
       "model_id": "f8f0317b4b5042c7bc829361d0faeaf1",
       "version_major": 2,
       "version_minor": 0
      },
      "text/plain": [
       "  0%|          | 0/93 [00:00<?, ?it/s]"
      ]
     },
     "metadata": {},
     "output_type": "display_data"
    }
   ],
   "source": [
    "from tqdm.auto import tqdm\n",
    "\n",
    "progress_bar = tqdm(range(num_training_steps))\n",
    "\n",
    "model.train()\n",
    "for epoch in range(num_epochs):\n",
    "    for batch in train_dataloader:\n",
    "        batch = {k: v.to(device) for k, v in batch.items()}\n",
    "        outputs = model(**batch)\n",
    "        loss = outputs.loss\n",
    "        loss.backward()\n",
    "\n",
    "        optimizer.step()\n",
    "        lr_scheduler.step()\n",
    "        optimizer.zero_grad()\n",
    "        progress_bar.update(1)"
   ]
  },
  {
   "cell_type": "code",
   "execution_count": 93,
   "metadata": {},
   "outputs": [
    {
     "data": {
      "text/plain": [
       "{'accuracy': 0.9836065573770492, 'f1': 0.9696969696969697}"
      ]
     },
     "execution_count": 93,
     "metadata": {},
     "output_type": "execute_result"
    }
   ],
   "source": [
    "\n",
    "\n",
    "metric = evaluate.load(\"glue\", \"mrpc\")\n",
    "model.eval()\n",
    "for batch in eval_dataloader:\n",
    "    batch = {k: v.to(device) for k, v in batch.items()}\n",
    "    with torch.no_grad():\n",
    "        outputs = model(**batch)\n",
    "\n",
    "    logits = outputs.logits\n",
    "    predictions = torch.argmax(logits, dim=-1)\n",
    "    metric.add_batch(predictions=predictions, references=batch[\"labels\"])\n",
    "\n",
    "metric.compute()"
   ]
  },
  {
   "cell_type": "code",
   "execution_count": 96,
   "metadata": {},
   "outputs": [
    {
     "data": {
      "text/plain": [
       "('./scraping_model/tokenizer_config.json',\n",
       " './scraping_model/special_tokens_map.json',\n",
       " './scraping_model/vocab.txt',\n",
       " './scraping_model/added_tokens.json',\n",
       " './scraping_model/tokenizer.json')"
      ]
     },
     "execution_count": 96,
     "metadata": {},
     "output_type": "execute_result"
    }
   ],
   "source": [
    "model.save_pretrained(\"./scraping_model\")\n",
    "tokenizer.save_pretrained(\"./scraping_model\")"
   ]
  },
  {
   "cell_type": "markdown",
   "metadata": {},
   "source": [
    "# Apply classifier to all examples"
   ]
  },
  {
   "cell_type": "code",
   "execution_count": 97,
   "metadata": {},
   "outputs": [],
   "source": [
    "model = AutoModelForSequenceClassification.from_pretrained('scraping_model')\n",
    "tokenizer = AutoTokenizer.from_pretrained('scraping_model')"
   ]
  },
  {
   "cell_type": "code",
   "execution_count": 104,
   "metadata": {},
   "outputs": [],
   "source": []
  },
  {
   "cell_type": "code",
   "execution_count": 109,
   "metadata": {},
   "outputs": [
    {
     "data": {
      "text/plain": [
       "tensor([[0.9544, 0.0456]])"
      ]
     },
     "execution_count": 109,
     "metadata": {},
     "output_type": "execute_result"
    }
   ],
   "source": [
    "softmax(model(**tokenizer('Do not scrape this website', return_tensors='pt')).logits.detach(), dim=1)"
   ]
  },
  {
   "cell_type": "code",
   "execution_count": 111,
   "metadata": {},
   "outputs": [
    {
     "data": {
      "application/vnd.jupyter.widget-view+json": {
       "model_id": "8f3219c9acb14262b1b133d5ed4d072d",
       "version_major": 2,
       "version_minor": 0
      },
      "text/plain": [
       "  0%|          | 0/105245 [00:00<?, ?it/s]"
      ]
     },
     "metadata": {},
     "output_type": "display_data"
    }
   ],
   "source": [
    "tqdm.pandas()\n",
    "metadata['logits'] = metadata.progress_apply(lambda x: \n",
    "                    softmax(model(**tokenizer(x.sentence, return_tensors='pt', truncation=True)).logits.detach(), dim=1), \n",
    "                          axis=1)"
   ]
  },
  {
   "cell_type": "code",
   "execution_count": 121,
   "metadata": {},
   "outputs": [
    {
     "data": {
      "text/plain": [
       "0.03497589752078056"
      ]
     },
     "execution_count": 121,
     "metadata": {},
     "output_type": "execute_result"
    }
   ],
   "source": [
    "metadata['logits'].iloc[0][0][1].item()"
   ]
  },
  {
   "cell_type": "code",
   "execution_count": 138,
   "metadata": {},
   "outputs": [
    {
     "data": {
      "text/plain": [
       "<Axes: ylabel='Density'>"
      ]
     },
     "execution_count": 138,
     "metadata": {},
     "output_type": "execute_result"
    },
    {
     "data": {
      "image/png": "[encoded data removed]",
      "text/plain": [
       "<Figure size 640x480 with 1 Axes>"
      ]
     },
     "metadata": {},
     "output_type": "display_data"
    }
   ],
   "source": [
    "metadata['prob_1'].plot(kind='density')"
   ]
  },
  {
   "cell_type": "code",
   "execution_count": 122,
   "metadata": {},
   "outputs": [],
   "source": [
    "metadata['prob_1'] = metadata['logits'].apply(lambda x: x[0][1].item())"
   ]
  },
  {
   "cell_type": "code",
   "execution_count": 125,
   "metadata": {},
   "outputs": [
    {
     "data": {
      "text/html": [
       "<div>\n",
       "<style scoped>\n",
       "    .dataframe tbody tr th:only-of-type {\n",
       "        vertical-align: middle;\n",
       "    }\n",
       "\n",
       "    .dataframe tbody tr th {\n",
       "        vertical-align: top;\n",
       "    }\n",
       "\n",
       "    .dataframe thead th {\n",
       "        text-align: right;\n",
       "    }\n",
       "</style>\n",
       "<table border=\"1\" class=\"dataframe\">\n",
       "  <thead>\n",
       "    <tr style=\"text-align: right;\">\n",
       "      <th></th>\n",
       "      <th>platform</th>\n",
       "      <th>year</th>\n",
       "      <th>sentence</th>\n",
       "      <th>logits</th>\n",
       "      <th>prob_1</th>\n",
       "    </tr>\n",
       "  </thead>\n",
       "  <tbody>\n",
       "    <tr>\n",
       "      <th>94340</th>\n",
       "      <td>Reddit</td>\n",
       "      <td>20210901</td>\n",
       "      <td>in addition to what is prohibited in the conte...</td>\n",
       "      <td>[[tensor(0.0419), tensor(0.9581)]]</td>\n",
       "      <td>0.958058</td>\n",
       "    </tr>\n",
       "    <tr>\n",
       "      <th>94466</th>\n",
       "      <td>Reddit</td>\n",
       "      <td>20240201</td>\n",
       "      <td>in addition to what is prohibited in the conte...</td>\n",
       "      <td>[[tensor(0.0421), tensor(0.9579)]]</td>\n",
       "      <td>0.957939</td>\n",
       "    </tr>\n",
       "    <tr>\n",
       "      <th>94586</th>\n",
       "      <td>Reddit</td>\n",
       "      <td>20230901</td>\n",
       "      <td>in addition to what is prohibited in the conte...</td>\n",
       "      <td>[[tensor(0.0421), tensor(0.9579)]]</td>\n",
       "      <td>0.957939</td>\n",
       "    </tr>\n",
       "    <tr>\n",
       "      <th>94919</th>\n",
       "      <td>Reddit</td>\n",
       "      <td>20230601</td>\n",
       "      <td>in addition to what is prohibited in the conte...</td>\n",
       "      <td>[[tensor(0.0421), tensor(0.9579)]]</td>\n",
       "      <td>0.957905</td>\n",
       "    </tr>\n",
       "    <tr>\n",
       "      <th>94235</th>\n",
       "      <td>Reddit</td>\n",
       "      <td>20180601</td>\n",
       "      <td>when accessing or using our services , you wil...</td>\n",
       "      <td>[[tensor(0.0421), tensor(0.9579)]]</td>\n",
       "      <td>0.957874</td>\n",
       "    </tr>\n",
       "    <tr>\n",
       "      <th>94701</th>\n",
       "      <td>Reddit</td>\n",
       "      <td>20180901</td>\n",
       "      <td>when accessing or using our services , you wil...</td>\n",
       "      <td>[[tensor(0.0421), tensor(0.9579)]]</td>\n",
       "      <td>0.957874</td>\n",
       "    </tr>\n",
       "    <tr>\n",
       "      <th>56256</th>\n",
       "      <td>FB</td>\n",
       "      <td>20090201</td>\n",
       "      <td>prohibited conduct by using or accessing [mask...</td>\n",
       "      <td>[[tensor(0.0424), tensor(0.9576)]]</td>\n",
       "      <td>0.957594</td>\n",
       "    </tr>\n",
       "    <tr>\n",
       "      <th>100107</th>\n",
       "      <td>Snapchat</td>\n",
       "      <td>20230801</td>\n",
       "      <td>that means , among other things , you may not ...</td>\n",
       "      <td>[[tensor(0.0426), tensor(0.9574)]]</td>\n",
       "      <td>0.957444</td>\n",
       "    </tr>\n",
       "    <tr>\n",
       "      <th>100663</th>\n",
       "      <td>Snapchat</td>\n",
       "      <td>20211101</td>\n",
       "      <td>that means , among other things , you may not ...</td>\n",
       "      <td>[[tensor(0.0426), tensor(0.9574)]]</td>\n",
       "      <td>0.957437</td>\n",
       "    </tr>\n",
       "    <tr>\n",
       "      <th>101586</th>\n",
       "      <td>Snapchat</td>\n",
       "      <td>20210901</td>\n",
       "      <td>that means , among other things , you may not ...</td>\n",
       "      <td>[[tensor(0.0426), tensor(0.9574)]]</td>\n",
       "      <td>0.957437</td>\n",
       "    </tr>\n",
       "  </tbody>\n",
       "</table>\n",
       "</div>"
      ],
      "text/plain": [
       "        platform      year                                           sentence  \\\n",
       "94340     Reddit  20210901  in addition to what is prohibited in the conte...   \n",
       "94466     Reddit  20240201  in addition to what is prohibited in the conte...   \n",
       "94586     Reddit  20230901  in addition to what is prohibited in the conte...   \n",
       "94919     Reddit  20230601  in addition to what is prohibited in the conte...   \n",
       "94235     Reddit  20180601  when accessing or using our services , you wil...   \n",
       "94701     Reddit  20180901  when accessing or using our services , you wil...   \n",
       "56256         FB  20090201  prohibited conduct by using or accessing [mask...   \n",
       "100107  Snapchat  20230801  that means , among other things , you may not ...   \n",
       "100663  Snapchat  20211101  that means , among other things , you may not ...   \n",
       "101586  Snapchat  20210901  that means , among other things , you may not ...   \n",
       "\n",
       "                                    logits    prob_1  \n",
       "94340   [[tensor(0.0419), tensor(0.9581)]]  0.958058  \n",
       "94466   [[tensor(0.0421), tensor(0.9579)]]  0.957939  \n",
       "94586   [[tensor(0.0421), tensor(0.9579)]]  0.957939  \n",
       "94919   [[tensor(0.0421), tensor(0.9579)]]  0.957905  \n",
       "94235   [[tensor(0.0421), tensor(0.9579)]]  0.957874  \n",
       "94701   [[tensor(0.0421), tensor(0.9579)]]  0.957874  \n",
       "56256   [[tensor(0.0424), tensor(0.9576)]]  0.957594  \n",
       "100107  [[tensor(0.0426), tensor(0.9574)]]  0.957444  \n",
       "100663  [[tensor(0.0426), tensor(0.9574)]]  0.957437  \n",
       "101586  [[tensor(0.0426), tensor(0.9574)]]  0.957437  "
      ]
     },
     "execution_count": 125,
     "metadata": {},
     "output_type": "execute_result"
    }
   ],
   "source": [
    "metadata.sort_values('prob_1', ascending=False).head(10)"
   ]
  },
  {
   "cell_type": "code",
   "execution_count": 134,
   "metadata": {},
   "outputs": [
    {
     "name": "stderr",
     "output_type": "stream",
     "text": [
      "/var/folders/d2/ydv0grbd38985h6_95t0vdjw0000gp/T/ipykernel_37345/3514719801.py:2: SettingWithCopyWarning: \n",
      "A value is trying to be set on a copy of a slice from a DataFrame.\n",
      "Try using .loc[row_indexer,col_indexer] = value instead\n",
      "\n",
      "See the caveats in the documentation: https://pandas.pydata.org/pandas-docs/stable/user_guide/indexing.html#returning-a-view-versus-a-copy\n",
      "  df_deduplicated['annotated'] = df_deduplicated.sentence.isin(df_annotations.text)\n",
      "/var/folders/d2/ydv0grbd38985h6_95t0vdjw0000gp/T/ipykernel_37345/3514719801.py:9: SettingWithCopyWarning: \n",
      "A value is trying to be set on a copy of a slice from a DataFrame.\n",
      "Try using .loc[row_indexer,col_indexer] = value instead\n",
      "\n",
      "See the caveats in the documentation: https://pandas.pydata.org/pandas-docs/stable/user_guide/indexing.html#returning-a-view-versus-a-copy\n",
      "  df_deduplicated.loc[df_deduplicated.prob_1.between(*interval),'category']  = label\n"
     ]
    }
   ],
   "source": [
    "df_deduplicated = metadata.drop_duplicates(subset=['sentence'])\n",
    "df_deduplicated['annotated'] = df_deduplicated.sentence.isin(df_annotations.text)\n",
    "int_labels = [((0.95,1.0),'confident_positive'),( (0.80,.95), 'sure_positive'),((0.60,.80), 'leaning_positive'),\n",
    "                   ((0.50,.60), 'borderline_positive'),((0.40,.50), 'borderline_negative'),\n",
    "                   ((0.20,.40), 'leaning_negative'),((0.05,.20), 'sure_negative'),((0.0,.05), 'confident_negative')]\n",
    "for interval, label in int_labels:\n",
    "\n",
    "\n",
    "    df_deduplicated.loc[df_deduplicated.prob_1.between(*interval),'category']  = label\n",
    "\n"
   ]
  },
  {
   "cell_type": "code",
   "execution_count": 137,
   "metadata": {},
   "outputs": [],
   "source": [
    "pd.concat([df_deduplicated[df_deduplicated.category == label].sample(10)\n",
    "    for _ , label in int_labels], axis=0)[['sentence','category']].to_csv('annotations/automatic_annotations_by_category.csv')\n"
   ]
  },
  {
   "cell_type": "code",
   "execution_count": null,
   "metadata": {},
   "outputs": [],
   "source": []
  }
 ],
 "metadata": {
  "kernelspec": {
   "display_name": "tou",
   "language": "python",
   "name": "python3"
  },
  "language_info": {
   "codemirror_mode": {
    "name": "ipython",
    "version": 3
   },
   "file_extension": ".py",
   "mimetype": "text/x-python",
   "name": "python",
   "nbconvert_exporter": "python",
   "pygments_lexer": "ipython3",
   "version": "3.10.14"
  }
 },
 "nbformat": 4,
 "nbformat_minor": 2
}
