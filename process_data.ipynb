{
 "cells": [
  {
   "cell_type": "code",
   "execution_count": 1,
   "metadata": {},
   "outputs": [],
   "source": [
    "# from sklearn.metrics.pairwise import cosine_similarity\n",
    "# import seaborn as sns\n",
    "# import numpy as np\n",
    "# from datetime import datetime\n",
    "# import pandas as pd\n",
    "# from matplotlib import pyplot as plt\n",
    "# from pathlib import Path\n",
    "# from collections import Counter,defaultdict\n",
    "# import transformers\n",
    "# from sentence_transformers import SentenceTransformer\n",
    "# from tqdm.notebook import tqdm\n",
    "# import scipy.spatial as sp\n",
    "# sns.set()"
   ]
  },
  {
   "cell_type": "code",
   "execution_count": 22,
   "metadata": {},
   "outputs": [],
   "source": [
    "%load_ext autoreload\n",
    "%autoreload 2"
   ]
  },
  {
   "cell_type": "code",
   "execution_count": 23,
   "metadata": {},
   "outputs": [
    {
     "ename": "ImportError",
     "evalue": "cannot import name 'replace_named_entities' from 'tools.utils' (/Users/kasparbeelen/Documents/TOUs/contracts/tools/utils.py)",
     "output_type": "error",
     "traceback": [
      "\u001b[0;31m---------------------------------------------------------------------------\u001b[0m",
      "\u001b[0;31mImportError\u001b[0m                               Traceback (most recent call last)",
      "Cell \u001b[0;32mIn[23], line 2\u001b[0m\n\u001b[1;32m      1\u001b[0m \u001b[38;5;28;01mfrom\u001b[39;00m \u001b[38;5;21;01mnltk\u001b[39;00m\u001b[38;5;21;01m.\u001b[39;00m\u001b[38;5;21;01mtokenize\u001b[39;00m \u001b[38;5;28;01mimport\u001b[39;00m sent_tokenize\n\u001b[0;32m----> 2\u001b[0m \u001b[38;5;28;01mfrom\u001b[39;00m \u001b[38;5;21;01mtools\u001b[39;00m\u001b[38;5;21;01m.\u001b[39;00m\u001b[38;5;21;01mutils\u001b[39;00m \u001b[38;5;28;01mimport\u001b[39;00m parse_filename, replace_named_entities\n\u001b[1;32m      3\u001b[0m \u001b[38;5;28;01mfrom\u001b[39;00m \u001b[38;5;21;01mcollections\u001b[39;00m \u001b[38;5;28;01mimport\u001b[39;00m Counter,defaultdict\n\u001b[1;32m      4\u001b[0m \u001b[38;5;28;01mfrom\u001b[39;00m \u001b[38;5;21;01msentence_transformers\u001b[39;00m \u001b[38;5;28;01mimport\u001b[39;00m SentenceTransformer\n",
      "\u001b[0;31mImportError\u001b[0m: cannot import name 'replace_named_entities' from 'tools.utils' (/Users/kasparbeelen/Documents/TOUs/contracts/tools/utils.py)"
     ]
    }
   ],
   "source": [
    "from nltk.tokenize import sent_tokenize\n",
    "from tools.utils import parse_filename, replace_named_entities\n",
    "from collections import Counter,defaultdict\n",
    "from sentence_transformers import SentenceTransformer\n",
    "from pathlib import Path\n",
    "from tqdm import tqdm\n",
    "import torch\n",
    "import spacy"
   ]
  },
  {
   "cell_type": "code",
   "execution_count": 11,
   "metadata": {},
   "outputs": [
    {
     "name": "stderr",
     "output_type": "stream",
     "text": [
      "[nltk_data] Downloading package punkt to\n",
      "[nltk_data]     /Users/kasparbeelen/nltk_data...\n",
      "[nltk_data]   Package punkt is already up-to-date!\n"
     ]
    },
    {
     "data": {
      "text/plain": [
       "True"
      ]
     },
     "execution_count": 11,
     "metadata": {},
     "output_type": "execute_result"
    }
   ],
   "source": [
    "import nltk\n",
    "nltk.download('punkt')"
   ]
  },
  {
   "cell_type": "code",
   "execution_count": 12,
   "metadata": {},
   "outputs": [
    {
     "name": "stdout",
     "output_type": "stream",
     "text": [
      "323 contracts in the corpus.\n"
     ]
    }
   ],
   "source": [
    "data = Path('data')\n",
    "txt = list(data.glob('**/*.txt'))\n",
    "print(f'{len(txt)} contracts in the corpus.')"
   ]
  },
  {
   "cell_type": "code",
   "execution_count": 13,
   "metadata": {},
   "outputs": [
    {
     "name": "stderr",
     "output_type": "stream",
     "text": [
      "100%|██████████| 323/323 [00:04<00:00, 77.41it/s] \n"
     ]
    }
   ],
   "source": [
    "txt_data = defaultdict(dict)\n",
    "for f in tqdm(txt):    \n",
    "    platform, date = parse_filename(f.stem)\n",
    "    \n",
    "    with open(f) as in_txt:\n",
    "        text = in_txt.read().strip()\n",
    "        txt_data[platform][date] = sent_tokenize(text)"
   ]
  },
  {
   "cell_type": "code",
   "execution_count": 14,
   "metadata": {},
   "outputs": [
    {
     "name": "stdout",
     "output_type": "stream",
     "text": [
      "mps\n"
     ]
    }
   ],
   "source": [
    "# next line is to check if MPS is available\n",
    "device = 'mps' if torch.backends.mps.is_available() else 'cpu'\n",
    "# comment next line if you are want to run code on a GPU\n",
    "#device = 'cuda' if torch.cuda.is_available() else device\n",
    "print(device)"
   ]
  },
  {
   "cell_type": "code",
   "execution_count": 15,
   "metadata": {},
   "outputs": [
    {
     "name": "stderr",
     "output_type": "stream",
     "text": [
      "/Users/kasparbeelen/anaconda3/envs/tou/lib/python3.10/site-packages/huggingface_hub/file_download.py:1150: FutureWarning: `resume_download` is deprecated and will be removed in version 1.0.0. Downloads always resume when possible. If you want to force a new download, use `force_download=True`.\n",
      "  warnings.warn(\n",
      "/Users/kasparbeelen/.cache/huggingface/modules/transformers_modules/nomic-ai/nomic-bert-2048/e55a7d4324f65581af5f483e830b80f34680e8ff/modeling_hf_nomic_bert.py:95: FutureWarning: You are using `torch.load` with `weights_only=False` (the current default value), which uses the default pickle module implicitly. It is possible to construct malicious pickle data which will execute arbitrary code during unpickling (See https://github.com/pytorch/pytorch/blob/main/SECURITY.md#untrusted-models for more details). In a future release, the default value for `weights_only` will be flipped to `True`. This limits the functions that could be executed during unpickling. Arbitrary objects will no longer be allowed to be loaded via this mode unless they are explicitly allowlisted by the user via `torch.serialization.add_safe_globals`. We recommend you start setting `weights_only=True` for any use case where you don't have full control of the loaded file. Please open an issue on GitHub for any issues related to this experimental feature.\n",
      "  state_dict = loader(resolved_archive_file)\n",
      "<All keys matched successfully>\n"
     ]
    },
    {
     "data": {
      "text/plain": [
       "SentenceTransformer(\n",
       "  (0): Transformer({'max_seq_length': 8192, 'do_lower_case': False}) with Transformer model: NomicBertModel \n",
       "  (1): Pooling({'word_embedding_dimension': 768, 'pooling_mode_cls_token': False, 'pooling_mode_mean_tokens': True, 'pooling_mode_max_tokens': False, 'pooling_mode_mean_sqrt_len_tokens': False, 'pooling_mode_weightedmean_tokens': False, 'pooling_mode_lasttoken': False, 'include_prompt': True})\n",
       "  (2): Normalize()\n",
       ")"
      ]
     },
     "execution_count": 15,
     "metadata": {},
     "output_type": "execute_result"
    }
   ],
   "source": [
    "\n",
    "#model = AutoModel.from_pretrained('jinaai/jina-embeddings-v2-base-en', trust_remote_code=True) # trust_remote_code is needed to use the encode method\n",
    "#model = SentenceTransformer('sentence-transformers/all-MiniLM-L6-v2')\n",
    "model = SentenceTransformer(\"nomic-ai/nomic-embed-text-v1\", trust_remote_code=True) # trust_remote_code is needed to use the encode method\n",
    "model.to(device)"
   ]
  },
  {
   "cell_type": "code",
   "execution_count": 18,
   "metadata": {},
   "outputs": [
    {
     "name": "stderr",
     "output_type": "stream",
     "text": [
      "<All keys matched successfully>\n"
     ]
    },
    {
     "name": "stdout",
     "output_type": "stream",
     "text": [
      "[[-2.49053929e-02  3.03569660e-02 -8.66050087e-03 -3.14114243e-02\n",
      "  -3.40868309e-02  1.51239876e-02 -3.30727436e-02 -2.93728784e-02\n",
      "   1.76531598e-02 -5.76929934e-02 -3.57010774e-02  7.25474432e-02\n",
      "   2.87167318e-02 -2.91433576e-02  1.57840494e-02 -4.35905233e-02\n",
      "   4.73345667e-02 -4.16029915e-02  2.04590634e-02 -9.40601807e-03\n",
      "  -2.67653037e-02  1.55763691e-02  4.52890340e-03 -3.48320752e-02\n",
      "   9.34396461e-02  2.63006259e-02 -2.64559705e-02  1.56210540e-02\n",
      "  -5.46664074e-02  8.06272849e-02  7.83575326e-02 -3.68069559e-02\n",
      "  -2.39507575e-02 -4.62817661e-02 -3.00458390e-02 -6.88793585e-02\n",
      "   4.29283008e-02  6.21305127e-03  1.52383409e-02  2.80487966e-02\n",
      "   2.43719742e-02  1.96172614e-02 -2.40876712e-02 -3.25649232e-02\n",
      "   4.01501954e-02 -1.92334764e-02  4.10688706e-02  3.55105139e-02\n",
      "   1.06070070e-02 -3.88689302e-02 -6.02688752e-02  4.20508832e-02\n",
      "   2.06103344e-02 -8.08899403e-02  8.84749647e-03  4.56969105e-02\n",
      "  -1.21288532e-02 -2.19326168e-02 -3.02110948e-02  3.11584696e-02\n",
      "   2.32951958e-02  3.55903953e-02 -3.13079357e-02  1.87559221e-02\n",
      "  -9.77103040e-03 -3.97446565e-02  5.94144091e-02  1.55781396e-03\n",
      "  -2.64592618e-02 -4.18102592e-02  2.87031401e-02 -6.46193698e-02\n",
      "   3.50259617e-02  6.36015981e-02 -3.82192582e-02  2.52926419e-03\n",
      "  -3.07577010e-03  9.03428067e-03 -1.51497778e-02  3.63079133e-03\n",
      "   3.25643420e-02 -1.82033721e-02 -4.43390608e-02  1.94646213e-02\n",
      "   3.35548371e-02 -8.25389009e-03  8.97067599e-03  6.31197393e-02\n",
      "  -2.07631569e-02  1.30368881e-02  1.20264431e-02 -4.64942679e-03\n",
      "   2.67075538e-03  4.07998115e-02 -3.57973576e-02 -8.12289678e-03\n",
      "   6.97672693e-03  9.10166930e-03 -1.52716590e-02 -6.44240975e-02\n",
      "  -2.85797026e-02  4.23897356e-02 -1.57777779e-02 -2.65033860e-02\n",
      "   5.54017127e-02  7.36959875e-02  5.22061018e-03  1.68685224e-02\n",
      "   1.69371609e-02  1.60337426e-04 -6.04586639e-02 -9.28816106e-03\n",
      "   1.34423589e-02 -3.32193337e-02  6.43714890e-03 -2.44245268e-02\n",
      "   2.62460969e-02 -9.35830176e-02  1.15475766e-02  7.00750500e-02\n",
      "  -2.59395912e-02 -2.99783386e-02  4.15598005e-02 -2.00178009e-02\n",
      "   1.25091139e-03  3.72109376e-03 -5.11130169e-02  8.02365225e-03\n",
      "  -3.73616517e-02  1.54625680e-02  3.80793167e-03  1.21229924e-02\n",
      "  -2.00493317e-02 -2.39284057e-02  5.81625439e-02  1.69339180e-02\n",
      "  -1.04411691e-02 -4.16487865e-02  1.56881437e-02  2.23030318e-02\n",
      "  -2.39880150e-03  4.46589440e-02  3.40961069e-02 -2.73114219e-02\n",
      "  -2.98281703e-02 -4.49490994e-02  3.53904702e-02 -3.76218744e-02\n",
      "  -5.27272793e-03  4.45542653e-04 -1.21354999e-03  1.26184458e-02\n",
      "   7.29676522e-03  2.63373423e-02 -4.15771641e-02 -1.88554786e-02\n",
      "   3.73224616e-02  2.44411863e-02  2.76752289e-05  9.76714212e-03\n",
      "   2.41618436e-02 -4.31227498e-02 -3.99775282e-02  5.47181703e-02\n",
      "  -3.08445469e-02  8.81369598e-03  3.59731056e-02 -2.57471818e-02\n",
      "   2.09154803e-02  6.35337532e-02 -5.21072419e-03 -3.20808999e-02\n",
      "  -9.82226897e-03 -1.95355024e-02 -1.97669081e-02 -5.30347833e-03\n",
      "  -7.81499222e-03 -7.24309906e-02  1.90820184e-03  6.72256807e-03\n",
      "   8.55582356e-02  1.76188238e-02  1.89311467e-02  3.56497727e-02\n",
      "  -1.10437209e-02 -2.16387976e-02 -1.42862219e-02 -3.36551853e-02\n",
      "  -6.16846466e-03 -3.48590538e-02 -1.85051262e-02  3.00158821e-02\n",
      "  -2.65896637e-02 -6.81746751e-02 -2.11122241e-02 -1.26386071e-02\n",
      "   2.57151388e-02  6.82679377e-03  4.15556654e-02 -1.08735934e-02\n",
      "   2.54843235e-02 -3.04244664e-02 -3.89078818e-02 -2.26501841e-03\n",
      "  -1.79155208e-02  2.38056853e-02 -2.25978997e-02  5.96273318e-03\n",
      "   3.69663350e-02  1.53429725e-03  1.25938475e-01  4.98563750e-03\n",
      "  -8.19351375e-02  4.39388193e-02 -3.51693891e-02  5.11446362e-03\n",
      "  -8.32909420e-02  1.68431010e-02 -7.76512399e-02  4.03036848e-02\n",
      "   7.89852440e-02  4.89555039e-02 -2.63301097e-02 -5.76485991e-02\n",
      "   2.58065797e-02  9.17062815e-03 -7.65776075e-03 -3.31468731e-02\n",
      "  -5.84919900e-02 -7.29377382e-03 -3.19388248e-02 -5.53580225e-02\n",
      "   3.69539782e-02  3.96243781e-02  5.23967756e-05  5.41744493e-02\n",
      "   2.81246733e-02  3.91403101e-02  1.20091941e-02  2.33445801e-02\n",
      "  -1.64428372e-02  2.28205230e-02 -1.38481557e-02  9.20657627e-03\n",
      "  -5.73586561e-02  3.38897184e-02  1.38740242e-03 -2.40208115e-02\n",
      "   2.50487905e-02  2.43660901e-02 -1.82140507e-02 -1.41834049e-03\n",
      "   6.06145002e-02 -4.43040440e-03  6.17442988e-02 -6.27348721e-02\n",
      "  -2.76286937e-02  1.53013971e-03 -3.50266360e-02 -6.01583533e-02\n",
      "   3.87662239e-02 -3.55297774e-02  4.18654904e-02 -6.05056286e-02\n",
      "  -7.60906609e-03 -2.97301263e-02 -5.92481950e-03  2.19976902e-02\n",
      "   5.85848419e-03 -1.39788911e-02  1.15457289e-02  2.14685756e-03\n",
      "   1.81715563e-02 -1.70915425e-02 -1.96391270e-02  1.95232946e-02\n",
      "   7.78972078e-03 -3.58960517e-02 -2.73028575e-02 -1.90148968e-03\n",
      "  -2.71561183e-02  2.06164662e-02 -6.95219403e-03 -2.46567260e-02\n",
      "  -1.14549985e-02  1.53402975e-02  2.47881413e-02  3.25190201e-02\n",
      "  -1.20176254e-02 -3.83352004e-02 -3.41651514e-02  2.59024892e-02\n",
      "   1.13294804e-02  7.34757558e-02  2.53807250e-02  3.06760315e-02\n",
      "   7.90670589e-02  8.54466017e-03  6.31654114e-02  1.27845984e-02\n",
      "   3.78219187e-02 -1.40118506e-02 -7.62562230e-02 -2.92508882e-02\n",
      "   2.86642294e-02 -5.66033460e-02  1.01709425e-01  2.93969680e-02\n",
      "   3.48915756e-02 -3.26393954e-02  3.85309220e-03  4.71305326e-02\n",
      "  -3.85770947e-02  8.42870772e-03 -7.86961392e-02 -9.59125441e-03\n",
      "   2.86648441e-02  1.50749329e-02  8.04554373e-02 -5.01138112e-03\n",
      "   2.82508954e-02 -1.79076027e-02 -2.05311254e-02 -6.93736300e-02\n",
      "  -4.01073433e-02  2.74623912e-02  2.58029029e-02  7.62942806e-02\n",
      "   3.08634844e-02 -1.91509016e-02 -2.00765883e-03  5.55265993e-02\n",
      "  -5.68132102e-02  4.41266363e-03  8.16137530e-04  2.75653582e-02\n",
      "  -3.23298806e-03  3.84478755e-02 -3.12865414e-02  5.96695058e-02\n",
      "   1.84109155e-03 -3.08249537e-02 -1.17334006e-02 -3.26626077e-02\n",
      "  -1.14603350e-02 -2.92521380e-02  3.96227464e-03 -7.26543181e-03\n",
      "   1.37899145e-02  2.40189838e-03 -4.11912203e-02  1.70534849e-02\n",
      "  -1.89226512e-02  2.42474359e-02 -4.64642830e-02  6.50571426e-03\n",
      "  -2.30862200e-02 -4.25484069e-02  4.30661477e-02  7.15076597e-03\n",
      "   2.57360730e-02 -2.95544080e-02 -4.05718945e-03  5.35385013e-02\n",
      "   2.59961206e-02  2.61766948e-02 -1.15268007e-02  6.60011370e-04\n",
      "   3.79128829e-02  8.15605186e-03 -5.18651009e-02 -6.92204200e-03\n",
      "   7.29500800e-02  3.55681889e-02  4.00030203e-02  3.36916335e-02\n",
      "  -7.47221038e-02 -3.38976569e-02 -7.70383328e-03 -5.44537082e-02\n",
      "   1.93340294e-02 -1.86351244e-03  2.42976546e-02  4.00696397e-02\n",
      "   8.91467743e-03  2.16184440e-03 -5.67142926e-02 -2.34366879e-02\n",
      "   3.49186026e-02 -8.60026339e-04 -4.11257185e-02 -2.38552708e-02\n",
      "  -4.97843437e-02  1.10785174e-03  1.39258197e-02  3.76801006e-02\n",
      "   4.84858491e-02 -3.74198630e-02 -3.95788364e-02  3.10746264e-02\n",
      "  -6.50688186e-02 -3.55184935e-02 -1.62581485e-02  2.04448495e-03\n",
      "  -7.48383105e-02  4.67426516e-02 -1.59722718e-03 -1.05696157e-01\n",
      "   3.21679600e-02  7.83054065e-03 -2.34142579e-02  4.20127474e-02\n",
      "   2.49374807e-02 -1.99138448e-02 -3.19433324e-02  2.72471271e-02\n",
      "   3.63527536e-02 -1.33898836e-02 -3.69628631e-02  1.39546092e-03\n",
      "   1.68157946e-02 -7.21272128e-03 -5.28653823e-02 -1.69640090e-02\n",
      "  -5.41795827e-02 -5.71215861e-02  1.81256328e-02  4.06232812e-02\n",
      "  -2.08592676e-02 -5.50409555e-02  1.53951515e-02  9.87188146e-03\n",
      "   4.35660705e-02  3.44768204e-02 -6.10439386e-03  1.47684608e-02\n",
      "  -1.79958958e-02  3.43724191e-02  2.47352477e-02  8.84904861e-02\n",
      "  -6.73045230e-04 -1.53869716e-02 -6.87189633e-03  2.60243099e-02\n",
      "   1.83010928e-03  2.77210381e-02  1.14990242e-01 -1.26983896e-02\n",
      "  -2.03311313e-02  1.79030672e-02  6.48804083e-02  6.03220537e-02\n",
      "  -5.10892682e-02  4.55075987e-02  8.45941529e-02  2.02856623e-02\n",
      "  -7.88026750e-02 -1.76999141e-02  4.21419702e-02  3.04958671e-02\n",
      "   3.89430188e-02  1.68677345e-02 -4.22463045e-02  1.99038461e-02\n",
      "   2.02936605e-02 -3.84440506e-03 -8.76849797e-03  7.14764697e-03\n",
      "   7.26221269e-03  2.44075619e-02 -2.40470059e-02  1.48195690e-02\n",
      "   1.98423080e-02  3.96455191e-02 -7.61109311e-03  3.26926112e-02\n",
      "   1.58632528e-02 -2.21192539e-02  3.31488512e-02  7.23431185e-02\n",
      "   1.24911126e-02 -1.01300264e-02 -2.59816721e-02 -3.94910425e-02\n",
      "   5.26812859e-03  5.51433787e-02  3.25537547e-02  5.02975518e-03\n",
      "   9.63569339e-03 -2.81501003e-02 -1.30504444e-02  7.39808679e-02\n",
      "   2.00542901e-02 -3.16817425e-02 -1.20166633e-02 -2.50383038e-02\n",
      "   1.47174690e-02 -7.34472694e-03 -1.16321146e-02  5.11974795e-03\n",
      "  -1.28378132e-02  2.68657506e-02 -2.21116375e-02  2.65392698e-02\n",
      "   6.22825213e-02  2.79032253e-02 -8.63697845e-03 -8.56281072e-02\n",
      "   6.61496446e-03  5.33969700e-02  2.38365284e-03  9.42491647e-03\n",
      "   4.21370752e-02 -2.61900853e-02  4.22998965e-02 -3.12664406e-03\n",
      "   5.98991178e-02 -5.10240626e-03 -5.17558828e-02  3.50833610e-02\n",
      "  -9.97915398e-03  1.83017775e-02 -3.85793447e-02  2.64557451e-02\n",
      "  -2.30928957e-02  7.32293259e-03 -4.49416824e-02 -3.36046405e-02\n",
      "   2.58535482e-02 -2.83634141e-02  1.02449696e-04 -1.85538325e-02\n",
      "  -2.06532199e-02 -2.05542762e-02  3.15029025e-02 -7.39490939e-03\n",
      "  -3.58657315e-02  7.23623559e-02 -3.19416933e-02 -2.66087558e-02\n",
      "  -2.33767144e-02  4.02509831e-02 -5.63923037e-03 -7.13582337e-03\n",
      "   2.03902461e-02 -2.22779792e-02 -4.40452732e-02  3.64603363e-02\n",
      "  -6.48839846e-02 -3.15300189e-02  6.29934222e-02 -4.48028781e-02\n",
      "  -3.32412682e-02 -5.02572469e-02  5.03051952e-02 -2.41721980e-02\n",
      "   1.65839139e-02  3.83619941e-03 -2.46882066e-02 -5.20064645e-02\n",
      "  -1.82135720e-02  3.62161994e-02 -4.96021658e-03 -2.31156088e-02\n",
      "   7.39573548e-03 -7.07541257e-02 -1.60229038e-02  5.58960140e-02\n",
      "   1.55618531e-03 -7.35171735e-02 -2.33523399e-02  3.70503101e-03\n",
      "  -1.87112167e-02 -1.57726575e-02  2.39978693e-02 -1.14748543e-02\n",
      "   5.41887619e-02  5.14804572e-02 -5.24162911e-02 -3.10698375e-02\n",
      "   4.72614216e-03 -4.50505279e-02 -5.18370718e-02  5.07287309e-02\n",
      "  -6.94847181e-02  1.20853353e-03 -1.80500597e-02  2.58440897e-03\n",
      "   9.20557976e-02 -4.73492257e-02  1.05881440e-02 -3.55348154e-03\n",
      "  -5.96037582e-02 -4.33803760e-02  4.94963117e-03 -2.91763879e-02\n",
      "  -5.24312779e-02 -3.08651552e-02 -2.37451755e-02 -4.77262214e-02\n",
      "   4.19084856e-04 -3.09656700e-03  7.89212808e-02 -4.25089970e-02\n",
      "   1.32777225e-02  5.63443936e-02 -2.01609712e-02 -1.80863980e-02\n",
      "  -4.52661328e-03  1.59984548e-03 -3.09280548e-02  2.13267542e-02\n",
      "   1.00992974e-02 -2.21433993e-02 -1.99690443e-02  2.57144719e-02\n",
      "   5.56952618e-02 -2.15822253e-02  7.29725230e-03 -4.40441556e-02\n",
      "  -1.30061675e-02 -3.80046368e-02  2.13281773e-02 -7.34555274e-02\n",
      "   1.74348857e-02  3.34921181e-02 -3.03419726e-03 -2.91334447e-02\n",
      "  -2.50761472e-02 -7.65818451e-03  1.05136195e-02  4.31127250e-02\n",
      "  -2.70544291e-02 -4.68548127e-02  9.41889454e-03 -1.94299426e-02\n",
      "  -6.04269393e-02 -1.28985438e-02 -3.16493176e-02  6.61988184e-02\n",
      "   5.79710566e-02  1.93237478e-03 -5.39683215e-02 -1.57696623e-02\n",
      "   2.98633706e-02  2.06490904e-02 -1.77982394e-02 -1.56968310e-02\n",
      "   6.47857934e-02 -4.69696522e-02  2.59175394e-02  9.51996595e-02\n",
      "   1.69505980e-02  4.15974064e-03  6.07785136e-02 -1.51879024e-02\n",
      "   3.36954817e-02 -7.02884002e-03 -1.41037321e-02  3.32489200e-02\n",
      "  -1.49802072e-02 -1.46948150e-03 -9.92891844e-03 -1.65993124e-02\n",
      "   2.53423564e-02 -5.03187403e-02  5.85359940e-03 -4.02509235e-02\n",
      "  -3.37965488e-02  1.13884285e-02 -2.56267320e-02 -1.60040334e-02\n",
      "  -4.84593445e-03 -1.07921823e-03 -3.00316513e-02  4.89952005e-02\n",
      "  -9.75037366e-03  5.21102995e-02  1.59770679e-02 -1.84276290e-02\n",
      "  -2.15501152e-03 -1.89256277e-02  2.96251345e-02 -1.44434841e-02\n",
      "  -6.59053400e-02  3.18726129e-03 -8.60390160e-03 -1.76490359e-02\n",
      "   4.25379276e-02 -3.93515714e-02  3.65368538e-02  6.01540208e-02\n",
      "   3.47458832e-02 -3.96236330e-02  3.62363979e-02 -1.89380944e-02\n",
      "  -7.89591968e-02 -6.32000528e-03 -6.96218526e-03  4.74776700e-03\n",
      "  -9.10728145e-03  5.44339232e-02  9.36796539e-04  5.51123507e-02\n",
      "  -2.57709306e-02 -5.48392907e-02  3.45441252e-02  7.25865513e-02\n",
      "  -2.69789398e-02 -1.68812666e-02  1.66032463e-02  1.19080730e-02\n",
      "   4.40091118e-02  2.83444580e-02  2.60487180e-02 -3.67508382e-02\n",
      "   4.11376283e-02 -1.35493896e-03 -2.58296989e-02 -1.22437086e-02\n",
      "   7.41545632e-02  8.92955344e-03 -5.14666028e-02  5.04662953e-02\n",
      "  -5.19455783e-02  4.67990874e-04  2.27028430e-02 -3.04273888e-02\n",
      "   5.53949066e-02 -1.18667940e-02 -4.95835915e-02 -2.36173882e-03\n",
      "  -1.23730013e-02  4.29378003e-02 -3.64199802e-02 -1.30813308e-02\n",
      "  -7.18954057e-02  5.15365824e-02 -2.41608769e-02  5.91895208e-02\n",
      "   3.68125760e-03 -7.03622922e-02  3.81249227e-02  7.23011121e-02\n",
      "  -2.78885644e-02 -2.21937373e-02  1.76651962e-02  5.52137010e-02\n",
      "   4.97299507e-02  1.11757955e-02 -2.58413348e-02  4.71232422e-02\n",
      "  -3.78264785e-02  7.30983273e-04  2.66902288e-03  2.70119756e-02\n",
      "  -3.55265173e-03  4.20720689e-02  9.12278332e-03 -2.87672281e-02\n",
      "   3.17613259e-02 -1.61599200e-02  2.64212233e-03  4.43685893e-03\n",
      "   3.93410306e-03 -2.71551441e-02 -3.05244569e-02  1.11375563e-02]]\n"
     ]
    }
   ],
   "source": [
    "model = SentenceTransformer(\"nomic-ai/nomic-embed-text-v1\", trust_remote_code=True)\n",
    "sentences = ['clustering: the quick brown fox']\n",
    "embeddings = model.encode(sentences)\n",
    "print(embeddings)"
   ]
  },
  {
   "cell_type": "code",
   "execution_count": 19,
   "metadata": {},
   "outputs": [
    {
     "name": "stderr",
     "output_type": "stream",
     "text": [
      "  0%|          | 0/22 [00:00<?, ?it/s]\n"
     ]
    },
    {
     "ename": "NameError",
     "evalue": "name 'replace_named_entities' is not defined",
     "output_type": "error",
     "traceback": [
      "\u001b[0;31m---------------------------------------------------------------------------\u001b[0m",
      "\u001b[0;31mNameError\u001b[0m                                 Traceback (most recent call last)",
      "Cell \u001b[0;32mIn[19], line 7\u001b[0m\n\u001b[1;32m      4\u001b[0m \u001b[38;5;28;01mfor\u001b[39;00m sent \u001b[38;5;129;01min\u001b[39;00m text:\n\u001b[1;32m      5\u001b[0m     \u001b[38;5;28;01mif\u001b[39;00m \u001b[38;5;28mlen\u001b[39m(\u001b[38;5;28mstr\u001b[39m(sent)) \u001b[38;5;241m<\u001b[39m \u001b[38;5;241m10\u001b[39m: \u001b[38;5;28;01mcontinue\u001b[39;00m\n\u001b[0;32m----> 7\u001b[0m     sent \u001b[38;5;241m=\u001b[39m \u001b[43mreplace_named_entities\u001b[49m(\u001b[38;5;28mstr\u001b[39m(sent)) \u001b[38;5;66;03m# remove named entities\u001b[39;00m\n\u001b[1;32m      8\u001b[0m     sent \u001b[38;5;241m=\u001b[39m sent\u001b[38;5;241m.\u001b[39mlower()\u001b[38;5;241m.\u001b[39mreplace(platform\u001b[38;5;241m.\u001b[39mlower(),\u001b[38;5;124m'\u001b[39m\u001b[38;5;124m[mask]\u001b[39m\u001b[38;5;124m'\u001b[39m) \u001b[38;5;66;03m# make double sure the platform name is masked\u001b[39;00m\n\u001b[1;32m      9\u001b[0m     embedding \u001b[38;5;241m=\u001b[39m model\u001b[38;5;241m.\u001b[39mencode(\u001b[38;5;124m\"\u001b[39m\u001b[38;5;124mclustering:  \u001b[39m\u001b[38;5;124m\"\u001b[39m \u001b[38;5;241m+\u001b[39m sent)\n",
      "\u001b[0;31mNameError\u001b[0m: name 'replace_named_entities' is not defined"
     ]
    }
   ],
   "source": [
    "encoded_data = []\n",
    "for platform, value in tqdm(txt_data.items()):\n",
    "    for year,text in value.items():\n",
    "        for sent in text:\n",
    "            if len(str(sent)) < 10: continue\n",
    "\n",
    "            sent = replace_named_entities(str(sent)) # remove named entities\n",
    "            sent = sent.lower().replace(platform.lower(),'[mask]') # make double sure the platform name is masked\n",
    "            embedding = model.encode(\"clustering:  \" + sent)\n",
    "            encoded_data.append([platform,year,sent,embedding])\n",
    "\n",
    "print(f'{len(encoded_data)} sentences encoded.')"
   ]
  },
  {
   "cell_type": "code",
   "execution_count": 37,
   "metadata": {},
   "outputs": [
    {
     "data": {
      "text/plain": [
       "'3.7.5'"
      ]
     },
     "execution_count": 37,
     "metadata": {},
     "output_type": "execute_result"
    }
   ],
   "source": []
  },
  {
   "cell_type": "code",
   "execution_count": null,
   "metadata": {},
   "outputs": [],
   "source": []
  }
 ],
 "metadata": {
  "kernelspec": {
   "display_name": "tou",
   "language": "python",
   "name": "python3"
  },
  "language_info": {
   "codemirror_mode": {
    "name": "ipython",
    "version": 3
   },
   "file_extension": ".py",
   "mimetype": "text/x-python",
   "name": "python",
   "nbconvert_exporter": "python",
   "pygments_lexer": "ipython3",
   "version": "3.10.14"
  }
 },
 "nbformat": 4,
 "nbformat_minor": 2
}
